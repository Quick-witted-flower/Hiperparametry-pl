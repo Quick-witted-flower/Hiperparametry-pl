{
 "cells": [
  {
   "cell_type": "code",
   "execution_count": 1,
   "id": "79d4bb0c-0bff-47d2-bf9f-65af58d15d2d",
   "metadata": {},
   "outputs": [
    {
     "name": "stdout",
     "output_type": "stream",
     "text": [
      "Fitting 3 folds for each of 12 candidates, totalling 36 fits\n",
      "Najlepsze hiperparametry: {'classifier__C': 0.1, 'classifier__solver': 'liblinear', 'preprocessor__num__pca__n_components': 5}\n",
      "Najlepszy wynik (F1-score): 0.6543964215923164\n"
     ]
    }
   ],
   "source": [
    "import pandas as pd\n",
    "import numpy as np\n",
    "from sklearn.pipeline import Pipeline\n",
    "from sklearn.model_selection import train_test_split, GridSearchCV\n",
    "from sklearn.linear_model import LogisticRegression\n",
    "from sklearn.preprocessing import StandardScaler, OneHotEncoder\n",
    "from sklearn.compose import ColumnTransformer\n",
    "from sklearn.decomposition import PCA\n",
    "\n",
    "data = pd.read_csv(\"diabetes (2).csv\")\n",
    "\n",
    "X = data.drop(columns=['Diabetic'])\n",
    "y = data['Diabetic']\n",
    "\n",
    "X_train, X_test, y_train, y_test = train_test_split(X, y, test_size=0.2, random_state=42)\n",
    "\n",
    "numeric_features = X.select_dtypes(include=['int64', 'float64']).columns\n",
    "categorical_features = X.select_dtypes(include=['object']).columns\n",
    "\n",
    "numeric_transformer = Pipeline([\n",
    "    ('scaler', StandardScaler()),\n",
    "    ('pca', PCA(n_components=5))  \n",
    "])\n",
    "\n",
    "categorical_transformer = Pipeline([\n",
    "    ('onehot', OneHotEncoder(handle_unknown='ignore'))\n",
    "])\n",
    "\n",
    "preprocessor = ColumnTransformer([\n",
    "    ('num', numeric_transformer, numeric_features),\n",
    "    ('cat', categorical_transformer, categorical_features)\n",
    "])\n",
    "\n",
    "pipeline = Pipeline([\n",
    "    ('preprocessor', preprocessor),\n",
    "    ('classifier', LogisticRegression(max_iter=1000, random_state=42))\n",
    "])\n",
    "\n",
    "param_grid_reduced = {\n",
    "    'preprocessor__num__pca__n_components': [3, 5],\n",
    "    'classifier__C': [0.1, 1, 10],\n",
    "    'classifier__solver': ['liblinear', 'lbfgs']\n",
    "}\n",
    "\n",
    "grid_search_reduced = GridSearchCV(\n",
    "    pipeline, \n",
    "    param_grid_reduced, \n",
    "    scoring='f1', \n",
    "    cv=3, \n",
    "    n_jobs=-1,  \n",
    "    verbose=1\n",
    ")\n",
    "\n",
    "grid_search_reduced.fit(X_train, y_train)\n",
    "\n",
    "print(\"Najlepsze hiperparametry:\", grid_search_reduced.best_params_)\n",
    "print(\"Najlepszy wynik (F1-score):\", grid_search_reduced.best_score_)\n"
   ]
  },
  {
   "cell_type": "markdown",
   "id": "bb43f0e0-b844-40d3-b32a-1ba21909caf3",
   "metadata": {},
   "source": [
    "Wnioski : Dla stworzonego wcześniej Pipeline’a przeprowadzono optymalizację hiperparametrów za pomocą GridSearchCV z walidacją krzyżową (3-fold). Najlepsze ustawienia to C=0.1, solver=liblinear oraz 5 komponentów PCA, co dało najwyższy wynik F1-score = 0.6544, wskazując na optymalną równowagę między precyzją i czułością modelu. "
   ]
  }
 ],
 "metadata": {
  "kernelspec": {
   "display_name": "Python 3 (ipykernel)",
   "language": "python",
   "name": "python3"
  },
  "language_info": {
   "codemirror_mode": {
    "name": "ipython",
    "version": 3
   },
   "file_extension": ".py",
   "mimetype": "text/x-python",
   "name": "python",
   "nbconvert_exporter": "python",
   "pygments_lexer": "ipython3",
   "version": "3.12.3"
  }
 },
 "nbformat": 4,
 "nbformat_minor": 5
}
